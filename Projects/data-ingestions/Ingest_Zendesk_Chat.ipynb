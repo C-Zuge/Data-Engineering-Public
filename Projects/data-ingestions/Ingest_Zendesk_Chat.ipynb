{
 "cells": [
  {
   "cell_type": "markdown",
   "metadata": {
    "application/vnd.databricks.v1+cell": {
     "cellMetadata": {},
     "inputWidgets": {},
     "nuid": "8e25863d-2076-490e-9fdb-a4513d5ce9aa",
     "showTitle": false,
     "title": ""
    }
   },
   "source": [
    "# Documentação\n",
    "> Zendesk Chat\n",
    "\n",
    "- Atualmente o processo carrega apenas a tabela \"chats\".\n",
    "\n",
    "1) [Chat-API - Export Full](https://developer.zendesk.com/api-reference/live-chat/chat-api/chats/)\n",
    "2) [Chat-API - Export Incremental](https://developer.zendesk.com/api-reference/live-chat/chat-api/incremental_export/)"
   ]
  },
  {
   "cell_type": "markdown",
   "metadata": {
    "application/vnd.databricks.v1+cell": {
     "cellMetadata": {},
     "inputWidgets": {},
     "nuid": "bc2f3012-cd37-41d6-bfdd-f08e85d1336c",
     "showTitle": false,
     "title": ""
    }
   },
   "source": [
    "# Processo de Carga\n",
    "> Processo completo de ETL."
   ]
  },
  {
   "cell_type": "code",
   "execution_count": null,
   "metadata": {
    "application/vnd.databricks.v1+cell": {
     "cellMetadata": {},
     "inputWidgets": {},
     "nuid": "3a3991d1-3902-4a8a-acc0-2027e5fdbf07",
     "showTitle": false,
     "title": ""
    }
   },
   "outputs": [],
   "source": [
    "%run /Utils/Functions/core"
   ]
  },
  {
   "cell_type": "code",
   "execution_count": null,
   "metadata": {
    "application/vnd.databricks.v1+cell": {
     "cellMetadata": {},
     "inputWidgets": {},
     "nuid": "cd62c34c-6119-4450-9c1a-4f062da8d267",
     "showTitle": false,
     "title": ""
    }
   },
   "outputs": [],
   "source": [
    "%sql\n",
    "use catalog prod;"
   ]
  },
  {
   "cell_type": "markdown",
   "metadata": {
    "application/vnd.databricks.v1+cell": {
     "cellMetadata": {},
     "inputWidgets": {},
     "nuid": "01348749-2b66-4dd9-9d15-bc366e4be535",
     "showTitle": false,
     "title": ""
    }
   },
   "source": [
    "## Bibliotecas\n",
    "> Import das bibliotecas utilizadas no processo."
   ]
  },
  {
   "cell_type": "code",
   "execution_count": null,
   "metadata": {
    "application/vnd.databricks.v1+cell": {
     "cellMetadata": {},
     "inputWidgets": {},
     "nuid": "4c8de058-b149-4ac4-9fb3-ed79f4a13a13",
     "showTitle": false,
     "title": ""
    }
   },
   "outputs": [],
   "source": [
    "import requests\n",
    "import json\n",
    "from datetime import datetime, timedelta\n",
    "from time import sleep, mktime\n",
    "from uuid import uuid4\n",
    "import concurrent.futures\n",
    "\n",
    "from IPython.display import clear_output"
   ]
  },
  {
   "cell_type": "code",
   "execution_count": null,
   "metadata": {
    "application/vnd.databricks.v1+cell": {
     "cellMetadata": {},
     "inputWidgets": {},
     "nuid": "ed81c73e-053f-40b5-b4b2-a92c28f71032",
     "showTitle": false,
     "title": ""
    }
   },
   "outputs": [],
   "source": [
    "## Cria as variáveis de LOG\n",
    "format_log = '%Y-%m-%d %H:%M:%S'\n",
    "dtInicio = datetime.today() - timedelta(hours=3)\n",
    "dtInicio_format = dtInicio.strftime(format_log)\n",
    "tipo_log = 'API'\n",
    "camada = 'landing'\n",
    "emissor = '<org>'\n",
    "atividade = '<activity_desc>'\n",
    "origem = 'RestService'\n",
    "destino = 'AzureBlobFS'\n",
    "execUrl = ' '\n",
    "\n",
    "try:\n",
    "    infos = json.loads(dbutils.notebook.entry_point.getDbutils().notebook().getContext().toJson()) # captura as informações do job que executa o notebook\n",
    "    orgId = infos['tags']['orgId']\n",
    "    runId = infos['tags']['multitaskParentRunId']\n",
    "    jobId = infos['tags']['jobId']\n",
    "    if orgId == '2960871991268730': # Monta a URL caso seja o ID do ambiente de DEV\n",
    "        execUrl = f'https://adb-{orgId}.10.azuredatabricks.net/?o={orgId}#job/{jobId}/run/{runId}' # cria a url de execução do \n",
    "    else: # Monta a URL caso seja o ID do ambiente de PROD\n",
    "        execUrl = f'https://adb-{orgId}.15.azuredatabricks.net/?o={orgId}#job/{jobId}/run/{runId}' # cria a url de execução do \n",
    "except:\n",
    "    print('Campo de URL não pode ser identificado!')"
   ]
  },
  {
   "cell_type": "markdown",
   "metadata": {
    "application/vnd.databricks.v1+cell": {
     "cellMetadata": {},
     "inputWidgets": {},
     "nuid": "fb0b29e8-5f05-4f6b-b26c-48c82b6dee9e",
     "showTitle": false,
     "title": ""
    }
   },
   "source": [
    "## Parâmetros\n",
    "> Lê os parâmetros de entrada do notebook.\n",
    "> Define valores default."
   ]
  },
  {
   "cell_type": "code",
   "execution_count": null,
   "metadata": {
    "application/vnd.databricks.v1+cell": {
     "cellMetadata": {},
     "inputWidgets": {},
     "nuid": "ffaf47e1-4c3b-4c04-9683-588bfcf56330",
     "showTitle": false,
     "title": ""
    }
   },
   "outputs": [],
   "source": [
    "dbutils.widgets.text(\"dt_ingestao\", \"\")"
   ]
  },
  {
   "cell_type": "markdown",
   "metadata": {
    "application/vnd.databricks.v1+cell": {
     "cellMetadata": {},
     "inputWidgets": {},
     "nuid": "5da9f925-effa-4858-8560-dc075390d38a",
     "showTitle": false,
     "title": ""
    }
   },
   "source": [
    "## Variáveis\n",
    "> Definição e inicialização das variáveis utiliadas no processo."
   ]
  },
  {
   "cell_type": "code",
   "execution_count": null,
   "metadata": {
    "application/vnd.databricks.v1+cell": {
     "cellMetadata": {},
     "inputWidgets": {},
     "nuid": "fe60e75a-9c4f-497b-a28d-997e634adb69",
     "showTitle": false,
     "title": ""
    }
   },
   "outputs": [],
   "source": [
    "location_landing = spark.sql(\"show external locations\").select(\"url\").where(\"name = 'landing-area'\").collect()[0][0]\n",
    "\n",
    "dt_ingestao = getArgument(\"dt_ingestao\").upper().strip()\n",
    "\n",
    "# Armazena o token de autenticação da API\n",
    "auth_token = dbutils.secrets.get(\"scope-vault-data\", \"zendesk-chat-token\")\n",
    "\n",
    "# Formata o dt_ingestao\n",
    "format_timestamp = '%Y-%m-%d %H:%M:%S.%f'\n",
    "dt_ingestao = datetime.now() if dt_ingestao == \"\" else datetime.strptime(dt_ingestao, format_timestamp)\n",
    "\n",
    "# Pega o horário atual e tira 3 horas para converter para BRT (UTC -3)\n",
    "# Tira 5 minutos por conta de um limite da API\n",
    "dt_fim = dt_ingestao - timedelta(hours=3) - timedelta(minutes=5)\n",
    "dt_inicio = dt_fim - timedelta(days=1)\n",
    "\n",
    "# Força as horas, minutos e segundos em 0\n",
    "dt_inicio = datetime(dt_inicio.year, dt_inicio.month, dt_inicio.day, 0, 0, 0)\n",
    "\n",
    "# Separa as datas no formato UNIX\n",
    "dt_fim_unix = int(mktime(dt_fim.timetuple()))\n",
    "dt_inicio_unix = int(mktime(dt_inicio.timetuple()))\n",
    "\n",
    "# Transforma as datas em STRING utilizando um formato de timestamp\n",
    "dt_fim = dt_fim.strftime(format_timestamp)\n",
    "dt_inicio = dt_inicio.strftime(format_timestamp)\n",
    "\n",
    "# Qtd de Threads em paralelas\n",
    "threads = 10\n",
    "\n",
    "print(f\"dt_inicio: {dt_inicio} | unix: {dt_inicio_unix}\")\n",
    "print(f\"dt_fim   : {dt_fim} | unix: {dt_fim_unix}\")"
   ]
  },
  {
   "cell_type": "markdown",
   "metadata": {
    "application/vnd.databricks.v1+cell": {
     "cellMetadata": {},
     "inputWidgets": {},
     "nuid": "c0ab6bbb-9a2e-4325-9874-7cb35cdb4780",
     "showTitle": false,
     "title": ""
    }
   },
   "source": [
    "### Tabelas\n",
    "> Lê a tabela de parâmetros para pegar as cargas ativas a serem processadas."
   ]
  },
  {
   "cell_type": "code",
   "execution_count": null,
   "metadata": {
    "application/vnd.databricks.v1+cell": {
     "cellMetadata": {},
     "inputWidgets": {},
     "nuid": "9d33dd38-1960-41e4-9144-398a99c96308",
     "showTitle": false,
     "title": ""
    }
   },
   "outputs": [],
   "source": [
    "df_param = fn_ConsultaJdbc(\"\"\"\n",
    "    SELECT pca.*\n",
    "    FROM ctl.ADF_Parametro_Carga_API pca\n",
    "    WHERE pca.fl_ativo = 1\n",
    "    and nm_Sistema = 'zendesk_chat'\n",
    "\"\"\")\n",
    "data_param = df_param.collect()\n",
    "\n",
    "display(df_param)"
   ]
  },
  {
   "cell_type": "markdown",
   "metadata": {
    "application/vnd.databricks.v1+cell": {
     "cellMetadata": {},
     "inputWidgets": {},
     "nuid": "e8bf1333-1866-4655-abba-8892285490ad",
     "showTitle": false,
     "title": ""
    }
   },
   "source": [
    "## Configurações\n",
    "> Define as configurações do processo de carga."
   ]
  },
  {
   "cell_type": "code",
   "execution_count": null,
   "metadata": {
    "application/vnd.databricks.v1+cell": {
     "cellMetadata": {},
     "inputWidgets": {},
     "nuid": "3dbd94cd-ffa1-4b6a-86d0-dbf686703f7d",
     "showTitle": false,
     "title": ""
    }
   },
   "outputs": [],
   "source": [
    "baseUrl = \"https://www.zopim.com\"\n",
    "headers = {'Authorization': auth_token, 'Content-Type': 'application/json'}"
   ]
  },
  {
   "cell_type": "markdown",
   "metadata": {
    "application/vnd.databricks.v1+cell": {
     "cellMetadata": {},
     "inputWidgets": {},
     "nuid": "4e2c5f3f-e641-4657-ace5-8991d187df96",
     "showTitle": false,
     "title": ""
    }
   },
   "source": [
    "## Ingestão\n",
    "> Processo de ingestão dos dados. Da origem até o datalake."
   ]
  },
  {
   "cell_type": "markdown",
   "metadata": {
    "application/vnd.databricks.v1+cell": {
     "cellMetadata": {},
     "inputWidgets": {},
     "nuid": "408b3ae8-b56c-4d52-91b1-d1540f2988cc",
     "showTitle": false,
     "title": ""
    }
   },
   "source": [
    "### Extração dos dados\n",
    "> Realiza consultas na API e salva os resultados (json) em uma lista."
   ]
  },
  {
   "cell_type": "code",
   "execution_count": null,
   "metadata": {
    "application/vnd.databricks.v1+cell": {
     "cellMetadata": {},
     "inputWidgets": {},
     "nuid": "5615409b-ac84-44db-ba0e-d6fb6e2beac4",
     "showTitle": false,
     "title": ""
    }
   },
   "outputs": [],
   "source": [
    "def get_tables(param, baseUrl, dt_inicio_unix, dtIngestao, location_landing, headers):\n",
    "    end_point_page = None\n",
    "    try:\n",
    "        format_timestamp = '%Y-%m-%d %H:%M:%S.%f'\n",
    "        dtIngestao = str(dtIngestao)\n",
    "        if param.vl_Ultimo_Incremento is not None:\n",
    "            vlUltimoIncremento = datetime.strptime(param.vl_Ultimo_Incremento, format_timestamp)\n",
    "            vlUltimoIncremento = int(mktime(vlUltimoIncremento.timetuple()))\n",
    "        else:\n",
    "            vlUltimoIncremento = dt_inicio_unix\n",
    "\n",
    "        vlUltimoIncremento = str(vlUltimoIncremento)\n",
    "\n",
    "        # Landing\n",
    "        if param.vl_Schedule_Carga != 0:\n",
    "            dir_landing = f\"{location_landing}/{param.ds_Diretorio_Landing}/{param.ds_Nome_Arquivo_Landing}/{dtIngestao[0:4]}/{dtIngestao[5:7]}/{dtIngestao[8:10]}/{dtIngestao[11:13]}\".lower()\n",
    "        else:\n",
    "            dir_landing = f\"{location_landing}/{param.ds_Diretorio_Landing}/{param.ds_Nome_Arquivo_Landing}/{dtIngestao[0:4]}/{dtIngestao[5:7]}/{dtIngestao[8:10]}\".lower()\n",
    "\n",
    "        # URL para o request\n",
    "        url = baseUrl + param.ds_Url.replace(\"@DT_INI_CARGA\", vlUltimoIncremento)\n",
    "        \n",
    "        # Cria uma lista vazia para armazenar as respostas de cada request\n",
    "        result_data = []\n",
    "        paginas = 0\n",
    "\n",
    "        # limite de registros por resposta da api (valor fixo)\n",
    "        # esse valor deve ser definido de acordo com a documentação da API\n",
    "        api_limit = 1000\n",
    "\n",
    "        # número máximo de erros permitodos antes de parar a execução (tentativas)\n",
    "        max_errors = 10\n",
    "\n",
    "        # tempo para esperar para tentar novamente em caso de erro (em segundos)\n",
    "        error_sleep = 30\n",
    "\n",
    "        # Faz o primeiro Request na API\n",
    "        response = requests.get(url=url, headers=headers)\n",
    "\n",
    "        # Verifica o status do request\n",
    "        if response.status_code == 200:\n",
    "            print(\"Primeiro request feito com sucesso.\")\n",
    "            data = response.json()\n",
    "            result_data.extend(data[param.nm_Item_Origem])\n",
    "\n",
    "            paginas += 1\n",
    "            while data[\"count\"] == api_limit or response.status_code != 200:\n",
    "                if response.status_code != 200:\n",
    "                    print(\"Erro no request, esperando para tentar novamente...\")\n",
    "                    max_errors -= 1\n",
    "                    if(max_errors < 0):\n",
    "                        raise Exception(str(response.content))\n",
    "\n",
    "                    sleep(error_sleep)\n",
    "                else:\n",
    "                    # print(\"Novas páginas...\")\n",
    "\n",
    "                    # Atualiza o URL para a próxima página\n",
    "                    if data[\"count\"] == api_limit:\n",
    "                        url = data[\"next_page\"]\n",
    "                    else:\n",
    "                        print(\"Processo finalizado com sucesso.\")\n",
    "                        break\n",
    "\n",
    "                response = requests.get(url=url, headers=headers)\n",
    "\n",
    "                if response.status_code == 200:\n",
    "                    data = response.json()\n",
    "                    result_data.extend(data[param.nm_Item_Origem])\n",
    "\n",
    "                    if len(result_data) == 0: # caso a quantidade de registros seja 0 (vazio), encerra a execução para evitar erros no LOG\n",
    "                        return\n",
    "\n",
    "                    paginas += 1\n",
    "\n",
    "                    clear_output(wait=True)\n",
    "                    print(f\"Qtd de páginas processadas: {paginas}\\nTentativas restantes: {max_errors}\")\n",
    "                else:\n",
    "                    print(str(response.content))\n",
    "        else:\n",
    "            raise Exception(str(response.content))\n",
    "\n",
    "        fn_SaveJson(result_data, dir_landing, str(param.ds_Nome_Arquivo_Landing).lower())\n",
    "        fn_AtualizaUltimoIncremento_API(param.id_Parametro_Carga_API, dtIngestao)\n",
    "        \n",
    "        ## LOG SUCESSO\n",
    "        dtFim = datetime.today() - timedelta(hours=3)\n",
    "        dtFim_format = dtFim.strftime(format_log)\n",
    "        duracao = int((dtFim-dtInicio).total_seconds()) #captura a duração subtraindo o dtFim pelo dtInicio\n",
    "        dsParametro = str(param.asDict()) #captura todos os parâmetros\n",
    "        notebook = dbutils.notebook.entry_point.getDbutils().notebook().getContext().notebookPath().get()\n",
    "        \n",
    "        try:\n",
    "            pipeline = param.nm_Pipeline\n",
    "        except:\n",
    "            pipeline = os.path.basename(notebook)\n",
    "\n",
    "        if end_point_page is not None:\n",
    "            query = end_point_page\n",
    "        else:\n",
    "            query = ' '\n",
    "            \n",
    "        parametros = {\"tipo_log\": tipo_log,\"id_parametro\": param.id_Parametro_Carga_API, \"camada\": camada, \"dtInicio\": dtInicio_format, \"dtFim\": dtFim_format, \"pipeline\": pipeline, \"atividade\": atividade, \"notebook\": notebook, \"origem\": origem, \"destino\": destino, \"sistema\": param.nm_Sistema, \"emissor\": emissor, \"duracao\": duracao, \"query\": query, \"dsParametro\": dsParametro, \"execUrl\": execUrl}\n",
    "\n",
    "        fn_LogSucceeded(parametros, dt_ingestao.strftime(format_log))\n",
    "\n",
    "        return f\"Carga da tabela {param.ds_Nome_Arquivo_Landing} finalizada com sucesso.\"\n",
    "    \n",
    "    except Exception as error:\n",
    "        ## LOG ERRO\n",
    "        dtFim = datetime.today() - timedelta(hours=3)\n",
    "        dtFim_format = dtFim.strftime(format_log)\n",
    "        duracao = int((dtFim-dtInicio).total_seconds()) #captura a duração subtraindo o dtFim pelo dtInicio\n",
    "        dsParametro = str(param.asDict()) #captura todos os parâmetros\n",
    "        notebook = dbutils.notebook.entry_point.getDbutils().notebook().getContext().notebookPath().get()\n",
    "        try:\n",
    "            pipeline = param.nm_Pipeline\n",
    "        except:\n",
    "            pipeline = os.path.basename(notebook)\n",
    "\n",
    "        if end_point_page is not None:\n",
    "            query = end_point_page\n",
    "        else:\n",
    "            query = ' '\n",
    "\n",
    "        if hasattr(error, 'code'): # captura o código do erro, caso possua o atributo 'code'\n",
    "            error_code = error.code\n",
    "        else:\n",
    "            error_code = 'NULL'\n",
    "            \n",
    "        parametros = {\"tipo_log\": tipo_log,\"id_parametro\": param.id_Parametro_Carga_API, \"camada\": camada, \"dtInicio\": dtInicio_format, \"dtFim\": dtFim_format, \"pipeline\": pipeline, \"atividade\": atividade, \"notebook\": notebook, \"origem\": origem, \"destino\": destino, \"sistema\": param.nm_Sistema, \"emissor\": emissor, \"duracao\": duracao, \"query\": query, \"dsParametro\": dsParametro, \"cd_erro\": error_code, \"erro\": str(error), \"execUrl\": execUrl}\n",
    "\n",
    "        fn_LogFailed(parametros, dt_ingestao.strftime(format_log))"
   ]
  },
  {
   "cell_type": "markdown",
   "metadata": {
    "application/vnd.databricks.v1+cell": {
     "cellMetadata": {},
     "inputWidgets": {},
     "nuid": "ad723b83-70ea-4842-84b1-42e91fff1474",
     "showTitle": false,
     "title": ""
    }
   },
   "source": [
    "### Execução das Cargas\n",
    "> Inicia o processo de carga com paralelismo entre threads para as tabelas."
   ]
  },
  {
   "cell_type": "code",
   "execution_count": null,
   "metadata": {
    "application/vnd.databricks.v1+cell": {
     "cellMetadata": {},
     "inputWidgets": {},
     "nuid": "c008cf52-0924-4b8b-8de2-14dd52f3fa6a",
     "showTitle": false,
     "title": ""
    }
   },
   "outputs": [],
   "source": [
    "# Cria uma lista para armazenar todas as tarefas\n",
    "tasks = []\n",
    "\n",
    "# Cria uma instância do ThreadPoolExecutor com threads definidas (max_workers)\n",
    "with concurrent.futures.ThreadPoolExecutor(max_workers=threads) as executor:\n",
    "    # Percorre todas as pastas do diretório de origem\n",
    "    for row in data_param:\n",
    "        # Executa a função fn_StreamFromFolder_csv em uma thread do ThreadPoolExecutor\n",
    "        task = executor.submit(get_tables, *(row, baseUrl, dt_inicio_unix, dt_fim, location_landing, headers))\n",
    "                               \n",
    "        # Adiciona a tarefa à lista de tarefas\n",
    "        tasks.append(task)\n",
    "\n",
    "# Aguarda a conclusão de todas as tarefas\n",
    "_ = concurrent.futures.wait(tasks, return_when='ALL_COMPLETED')"
   ]
  },
  {
   "cell_type": "code",
   "execution_count": null,
   "metadata": {
    "application/vnd.databricks.v1+cell": {
     "cellMetadata": {},
     "inputWidgets": {},
     "nuid": "77addf5c-07ea-4650-b2a4-bd14932ba008",
     "showTitle": false,
     "title": ""
    }
   },
   "outputs": [],
   "source": [
    "for task in tasks:\n",
    "    try:\n",
    "        print(task.result(),'\\n')\n",
    "    except Exception as error:\n",
    "        print(error)\n",
    "        pass"
   ]
  }
 ],
 "metadata": {
  "application/vnd.databricks.v1+notebook": {
   "dashboards": [],
   "language": "python",
   "notebookMetadata": {},
   "notebookName": "Process_Ingestao_VR_Gente_Zendesk_Chat",
   "widgets": {}
  },
  "language_info": {
   "name": "python"
  }
 },
 "nbformat": 4,
 "nbformat_minor": 0
}
