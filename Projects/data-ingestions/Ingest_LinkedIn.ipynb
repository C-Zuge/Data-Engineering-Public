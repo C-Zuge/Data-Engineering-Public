{
 "cells": [
  {
   "cell_type": "code",
   "execution_count": null,
   "metadata": {
    "application/vnd.databricks.v1+cell": {
     "cellMetadata": {},
     "inputWidgets": {},
     "nuid": "8dee780c-2153-49a8-a285-6a2e8cf1d77d",
     "showTitle": false,
     "title": ""
    }
   },
   "outputs": [],
   "source": [
    "%run /Utils/Functions/core"
   ]
  },
  {
   "cell_type": "code",
   "execution_count": null,
   "metadata": {
    "application/vnd.databricks.v1+cell": {
     "cellMetadata": {},
     "inputWidgets": {},
     "nuid": "bdaf4a5e-9a33-4c84-86e8-6721134c6f33",
     "showTitle": false,
     "title": ""
    }
   },
   "outputs": [],
   "source": [
    "import requests\n",
    "import concurrent.futures\n",
    "import time\n",
    "import sys\n",
    "import os\n",
    "import re\n",
    "from time import sleep, mktime\n",
    "from uuid import uuid4\n",
    "import json\n",
    "from requests.auth import HTTPBasicAuth\n",
    "from datetime import datetime, timedelta, timezone\n",
    "from IPython.display import clear_output"
   ]
  },
  {
   "cell_type": "code",
   "execution_count": null,
   "metadata": {
    "application/vnd.databricks.v1+cell": {
     "cellMetadata": {},
     "inputWidgets": {},
     "nuid": "adf70602-fd3d-4ef8-9b06-727206b7d3de",
     "showTitle": false,
     "title": ""
    }
   },
   "outputs": [],
   "source": [
    "## Cria as variáveis de LOG\n",
    "format_log = '%Y-%m-%d %H:%M:%S'\n",
    "dtInicio = datetime.today() - timedelta(hours=3)\n",
    "dtInicio_format = dtInicio.strftime(format_log)\n",
    "tipo_log = 'API'\n",
    "camada = 'landing'\n",
    "emissor = '<org>'\n",
    "atividade = '<activity_desc>'\n",
    "origem = 'RestService'\n",
    "destino = 'AzureBlobFS'\n",
    "execUrl = ' '\n",
    "\n",
    "try:\n",
    "    infos = json.loads(dbutils.notebook.entry_point.getDbutils().notebook().getContext().toJson()) # captura as informações do job que executa o notebook\n",
    "    orgId = infos['tags']['orgId']\n",
    "    runId = infos['tags']['multitaskParentRunId']\n",
    "    jobId = infos['tags']['jobId']\n",
    "    if orgId == '2960871991268730': # Monta a URL caso seja o ID do ambiente de DEV\n",
    "        execUrl = f'https://adb-{orgId}.10.azuredatabricks.net/?o={orgId}#job/{jobId}/run/{runId}' # cria a url de execução do \n",
    "    else: # Monta a URL caso seja o ID do ambiente de PROD\n",
    "        execUrl = f'https://adb-{orgId}.15.azuredatabricks.net/?o={orgId}#job/{jobId}/run/{runId}' # cria a url de execução do \n",
    "except:\n",
    "    print('Campo de URL não pode ser identificado!')"
   ]
  },
  {
   "cell_type": "code",
   "execution_count": null,
   "metadata": {
    "application/vnd.databricks.v1+cell": {
     "cellMetadata": {},
     "inputWidgets": {},
     "nuid": "d5db5369-e105-4124-b33f-e47c5246bd23",
     "showTitle": false,
     "title": ""
    }
   },
   "outputs": [],
   "source": [
    "%sql\n",
    "use catalog prod;"
   ]
  },
  {
   "cell_type": "code",
   "execution_count": null,
   "metadata": {
    "application/vnd.databricks.v1+cell": {
     "cellMetadata": {},
     "inputWidgets": {},
     "nuid": "9ac9ba01-c18a-4b85-b025-68e5ba0e6995",
     "showTitle": false,
     "title": ""
    }
   },
   "outputs": [],
   "source": [
    "dbutils.widgets.text(\"dt_ingestao\", \"\")\n",
    "\n",
    "dt_ingestao = getArgument(\"dt_ingestao\").upper().strip()\n",
    "\n",
    "location_landing = spark.sql(\"show external locations\").select(\"url\").where(\"name = 'landing-area'\").collect()[0][0]\n",
    "location_flat_file = spark.sql(\"show external locations\").select(\"url\").where(\"name = 'flatfile-area'\").collect()[0][0]\n",
    "\n",
    "print(location_landing)\n",
    "print(location_flat_file)"
   ]
  },
  {
   "cell_type": "code",
   "execution_count": null,
   "metadata": {
    "application/vnd.databricks.v1+cell": {
     "cellMetadata": {},
     "inputWidgets": {},
     "nuid": "35986a9e-7215-4698-9047-ecb0b720f09b",
     "showTitle": false,
     "title": ""
    }
   },
   "outputs": [],
   "source": [
    "# Formata o dt_ingestao\n",
    "format_timestamp = '%Y-%m-%d %H:%M:%S.%f'\n",
    "dt_ingestao = datetime.now() if dt_ingestao == \"\" else datetime.strptime(dt_ingestao, format_timestamp)\n",
    "\n",
    "# Pega o horário atual e tira 3 horas para converter para BRT (UTC -3)\n",
    "# Tira 5 minutos por conta de um limite da API\n",
    "dt_fim = dt_ingestao - timedelta(hours=3) - timedelta(minutes=5)\n",
    "dt_inicio = dt_fim - timedelta(days=1)\n",
    "\n",
    "# Força as horas, minutos e segundos em 0\n",
    "dt_inicio = datetime(dt_inicio.year, dt_inicio.month, dt_inicio.day, 0, 0, 0)\n",
    "\n",
    "# Separa as datas no formato UNIX\n",
    "dt_fim_unix = int(mktime(dt_fim.timetuple()))\n",
    "dt_inicio_unix = int(mktime(dt_inicio.timetuple()))\n",
    "\n",
    "# dt_inicio_unix = 1546300800\n",
    "\n",
    "# Transforma as datas em STRING utilizando um formato de timestamp\n",
    "dt_fim = dt_fim.strftime(format_timestamp)\n",
    "dt_inicio = dt_inicio.strftime(format_timestamp)\n",
    "\n",
    "print(f\"dt_inicio: {dt_inicio} | unix: {dt_inicio_unix}\")\n",
    "print(f\"dt_fim   : {dt_fim} | unix: {dt_fim_unix}\")"
   ]
  },
  {
   "cell_type": "code",
   "execution_count": null,
   "metadata": {
    "application/vnd.databricks.v1+cell": {
     "cellMetadata": {},
     "inputWidgets": {},
     "nuid": "7bf06836-b317-400a-a7b8-ca705570ef8f",
     "showTitle": false,
     "title": ""
    }
   },
   "outputs": [],
   "source": [
    "domain = \"linkedin\"\n",
    "subdomain = \"api\"\n",
    "threads = 10\n",
    "baseUrl = f\"https://{subdomain}.{domain}.com\"\n",
    "token = dbutils.secrets.get('scope-vault-data', 'linkedin-api-token')\n",
    "\n",
    "headers = {'Authorization': 'Bearer ' + token, 'LinkedIn-Version': '202306'}\n",
    "\n",
    "dir_flatfile = f'{location_flat_file}/<org>/linkedin'\n",
    "dir_flatfile_ro = f'/dbfs/FileSotre/flat-files/.../<org>/linkedin'\n",
    "\n",
    "print(baseUrl)"
   ]
  },
  {
   "cell_type": "code",
   "execution_count": null,
   "metadata": {
    "application/vnd.databricks.v1+cell": {
     "cellMetadata": {},
     "inputWidgets": {},
     "nuid": "e1304be3-2ae1-49bb-9f55-a3ddf9213858",
     "showTitle": false,
     "title": ""
    }
   },
   "outputs": [],
   "source": [
    "# Pega apenas cargas que possuem valor preenchido no campo \"ds_Url\" para não trazer tabelas que são geradas a partir de outro evento na landing.\n",
    "df_param = fn_ConsultaJdbc(\"\"\"\n",
    "    SELECT pca.*\n",
    "    FROM ctl.ADF_Parametro_Carga_API pca\n",
    "    WHERE pca.fl_ativo = 1\n",
    "    and nm_Sistema = 'linkedin'\n",
    "    and ds_Url is not null\n",
    "\"\"\")\n",
    "\n",
    "data_param = df_param.collect()\n",
    "\n",
    "display(df_param)"
   ]
  },
  {
   "cell_type": "markdown",
   "metadata": {
    "application/vnd.databricks.v1+cell": {
     "cellMetadata": {},
     "inputWidgets": {},
     "nuid": "c9136218-eb62-4c73-b9be-fb888c8c4f53",
     "showTitle": false,
     "title": ""
    }
   },
   "source": [
    "###FUNÇÕES UTILIZADAS PARA AS TABELAS AD_ANALYTICIS_BY_CAMPAIGN E AD_ANALYTICIS_BY_CREATIVE "
   ]
  },
  {
   "cell_type": "code",
   "execution_count": null,
   "metadata": {
    "application/vnd.databricks.v1+cell": {
     "cellMetadata": {},
     "inputWidgets": {},
     "nuid": "2c75d9a6-1d70-4741-8bfb-dda29e81486d",
     "showTitle": false,
     "title": ""
    }
   },
   "outputs": [],
   "source": [
    "def get_key(d):\n",
    "    pivot_values = d['pivotValues']\n",
    "    start_date = d['dateRange']['start']\n",
    "    end_date = d['dateRange']['end']\n",
    "    key = (pivot_values, start_date['day'], start_date['month'], start_date['year'], end_date['day'], end_date['month'], end_date['year'])\n",
    "    return key\n",
    "\n",
    "def mergeDict(data, result_dict):\n",
    "    for dados in data[\"elements\"]:\n",
    "        key = get_key(dados)\n",
    "        result_dict[key] = {**result_dict.get(key, {}), **dados}"
   ]
  },
  {
   "cell_type": "code",
   "execution_count": null,
   "metadata": {
    "application/vnd.databricks.v1+cell": {
     "cellMetadata": {},
     "inputWidgets": {},
     "nuid": "bf18569c-9a4e-4bf1-b771-0af662f9b67f",
     "showTitle": false,
     "title": ""
    }
   },
   "outputs": [],
   "source": [
    "def get_tables(param, baseUrl, dt_inicio_unix, dtIngestao, location_landing, headers):\n",
    "    end_point_page = None\n",
    "    try:\n",
    "        format_timestamp = '%Y-%m-%d %H:%M:%S.%f'\n",
    "        dtIngestao = str(dtIngestao)\n",
    "        if param.vl_Ultimo_Incremento is not None:\n",
    "            vlUltimoIncremento = datetime.strptime(param.vl_Ultimo_Incremento, format_timestamp)\n",
    "            vlUltimoIncremento = int(mktime(vlUltimoIncremento.timetuple()))\n",
    "        else:\n",
    "            vlUltimoIncremento = dt_inicio_unix\n",
    "\n",
    "        vlUltimoIncremento = str(vlUltimoIncremento)\n",
    "\n",
    "        # Landing\n",
    "        if param.vl_Schedule_Carga != 0:\n",
    "            dir_landing = f\"{location_landing}/{param.ds_Diretorio_Landing}/{param.ds_Nome_Arquivo_Landing}/{dtIngestao[0:4]}/{dtIngestao[5:7]}/{dtIngestao[8:10]}/{dtIngestao[11:13]}\".lower()\n",
    "        else:\n",
    "            dir_landing = f\"{location_landing}/{param.ds_Diretorio_Landing}/{param.ds_Nome_Arquivo_Landing}/{dtIngestao[0:4]}/{dtIngestao[5:7]}/{dtIngestao[8:10]}\".lower()\n",
    "\n",
    "        # URL para o request\n",
    "        if param.nm_Item_Origem not in ('ad_analytics_by_campaign', 'ad_analytics_by_creative'):\n",
    "            organization_id = '10481512' \n",
    "            start_time = '1675468800000' #DEPOIS CONFERIR\n",
    "            url = baseUrl + param.ds_Url.replace('@organization_id', organization_id).replace('@start_time', start_time)\n",
    "\n",
    "            response = requests.get(url=url, headers=headers)\n",
    "\n",
    "        # Cria uma lista vazia para armazenar as respostas de cada request\n",
    "        result_data = []\n",
    "\n",
    "        # limite de registros por resposta da api (valor fixo)\n",
    "        # esse valor deve ser definido de acordo com a documentação da API\n",
    "        api_limit = 1000\n",
    "\n",
    "        # número máximo de erros permitodos antes de parar a execução (tentativas)\n",
    "        max_errors = 10\n",
    "\n",
    "        # tempo para esperar para tentar novamente em caso de erro (em segundos)\n",
    "        error_sleep = 30\n",
    "\n",
    "        # Faz o primeiro Request na API\n",
    "        # response = requests.get(url=url, headers=headers)\n",
    "\n",
    "        # Verifica o status do request\n",
    "        if param.nm_Item_Origem not in ('ad_analytics_by_campaign', 'ad_analytics_by_creative', 'campaigns_associated_with_conversion'):\n",
    "            if response.status_code == 200:\n",
    "                print(f\"Primeiro request feito com sucesso.\")\n",
    "                data = response.json()\n",
    "                if param.nm_Definition is not None:\n",
    "                    campo_data = param.nm_Definition.split(',')\n",
    "                    if len(campo_data) == 2:\n",
    "\n",
    "                        for dados in data[campo_data[0]]:\n",
    "                            result_data.extend(dados[campo_data[1]])\n",
    "                    else:\n",
    "                        result_data.extend(data[campo_data[0]])\n",
    "                \n",
    "                elif param.nm_Item_Origem == 'organization':\n",
    "                    result_data.append(data)\n",
    "        \n",
    "        elif param.nm_Item_Origem in ('campaigns_associated_with_conversion'):\n",
    "            if response.status_code == 200:\n",
    "                print(f\"Primeiro request feito com sucesso.\")\n",
    "                data = response.json()\n",
    "\n",
    "                for dados in data['elements']:\n",
    "                    for chave, valor in dados.items():\n",
    "                        if isinstance(valor, list) and chave in 'associatedCampaigns':\n",
    "                            for items in valor:\n",
    "                                result_data.append(items)\n",
    "\n",
    "        # Daqui em diante, esse elif foi escrito porque existe uma limitação de colunas que podem ser passadas no endpoint dessas duas tabelas. Nesse processo são feitas as duas requisições com os campos divididos em duas variáveis. Em seguida os dados são salvos em variáveis que serão iteradas e mergeadas utilizando o campo pivotValues (Campo onde está o ID) salvando as tabelas em uma lista\n",
    "\n",
    "        elif param.nm_Item_Origem in ('ad_analytics_by_campaign', 'ad_analytics_by_creative'):\n",
    "            print(\"ENTRANDO AQUI LN 75\")\n",
    "            result_dict = {}\n",
    "\n",
    "            headers = {'Authorization': 'Bearer ' + token, 'LinkedIn-Version': '202306', \"X-Restli-Protocol-Version\": \"2.0.0\"}\n",
    "\n",
    "            fields = [\"actionClicks,adUnitClicks,cardClicks,cardImpressions,clicks,comments,companyPageClicks,conversionValueInLocalCurrency,costInLocalCurrency,costInUsd,dateRange,externalWebsitePostClickConversions,externalWebsitePostViewConversions,follows,fullScreenPlays,impressions,landingPageClicks,leadGenerationMailContactInfoShares,pivotValues\",\"likes,oneClickLeads,pivotValues,dateRange,reactions,sends,shares,textUrlClicks,totalEngagements,videoCompletions,videoFirstQuartileCompletions,videoMidpointCompletions,videoStarts,videoThirdQuartileCompletions,videoViews,viralClicks,viralCommentLikes,viralComments,viralCompanyPageClicks\",\"viralExternalWebsiteConversions,viralExternalWebsitePostClickConversions,viralExternalWebsitePostViewConversions,viralFollows,viralFullScreenPlays,viralImpressions,viralLandingPageClicks,viralLikes,viralOneClickLeadFormOpens,viralOneClickLeads,viralOtherEngagements,viralReactions,viralShares,viralTotalEngagements,viralVideoCompletions,viralVideoFirstQuartileCompletions,viralVideoMidpointCompletions,viralVideoStarts,pivotValues,dateRange\",\"viralVideoThirdQuartileCompletions,viralVideoViews,pivotValues,dateRange,companyPageClicks\"]\n",
    "\n",
    "            for campos in fields:\n",
    "\n",
    "                url = f\"{baseUrl}{param.ds_Url}&fields={campos}\"\n",
    "                response = requests.get(url, headers=headers)\n",
    "                data = response.json()\n",
    "\n",
    "                for dados in data['elements']:\n",
    "                    for chave, valor in dados.items():\n",
    "                        if isinstance(valor, list):\n",
    "                            string_tratada = valor[0].split(':')\n",
    "                            dados[chave] = string_tratada[3]\n",
    "\n",
    "                mergeDict(data, result_dict)\n",
    "                for chaves, valores in result_dict.items():\n",
    "                    result_data.append(valores)\n",
    "            \n",
    "        if len(result_data) == 0: # caso a quantidade de registros seja 0 (vazio), encerra a execução para evitar erros no LOG\n",
    "            return\n",
    "\n",
    "        #Nesse ponto, é criado uma lógica para fatiar uma específica string, para alguns campos e algumas tabelas (ambos definidos na linha 64)\n",
    "        if param.nm_Item_Origem not in ('ad_analytics_by_campaign', 'ad_analytics_by_creative'):\n",
    "            \n",
    "\n",
    "            nm_tabelas = (\"campaign\",\"campaign_group\",\"campaigns_associated_with_conversion\",\"conversion\",\"creative\",\"follower_stats\",\"page_stats\",\"share_stats\",\"video_ad\")\n",
    "\n",
    "            nm_campos = (\"account\",\"campaign\",\"conversion\",\"organizationalEntity\", \"campaignGroup\", \"organization\",\"contentReference\", \"owner\")\n",
    "\n",
    "            for dados in result_data:\n",
    "                strings = (\"urn:li\", \"urn:lla\")\n",
    "                for chave, valor in dados.items():\n",
    "                    if isinstance(valor, str) and valor.startswith(strings):\n",
    "                        if param.nm_Item_Origem in nm_tabelas and chave in nm_campos: #CAMPOS e TABELAS definidas onde a string será fatiada\n",
    "                            padrao = re.compile(r'\\b(\\w+)\\b')\n",
    "                            palavras = re.findall(padrao, valor)\n",
    "\n",
    "                            item_fatiado = palavras[3]\n",
    "                            dados[chave] = item_fatiado\n",
    "\n",
    "        \n",
    "        fn_SaveJson(result_data, dir_landing, str(param.ds_Nome_Arquivo_Landing).lower())\n",
    "        \n",
    "        fn_AtualizaUltimoIncremento_API(param.id_Parametro_Carga_API, dtIngestao)\n",
    "    \n",
    "        ## LOG SUCESSO\n",
    "        dtFim = datetime.today() - timedelta(hours=3)\n",
    "        dtFim_format = dtFim.strftime(format_log)\n",
    "        duracao = int((dtFim-dtInicio).total_seconds()) #captura a duração subtraindo o dtFim pelo dtInicio\n",
    "        dsParametro = str(param.asDict()) #captura todos os parâmetros\n",
    "        notebook = dbutils.notebook.entry_point.getDbutils().notebook().getContext().notebookPath().get()\n",
    "        \n",
    "        try:\n",
    "            pipeline = param.nm_Pipeline\n",
    "        except:\n",
    "            pipeline = os.path.basename(notebook)\n",
    "\n",
    "        if end_point_page is not None:\n",
    "            query = end_point_page\n",
    "        else:\n",
    "            query = ' '\n",
    "            \n",
    "        parametros = {\"tipo_log\": tipo_log,\"id_parametro\": param.id_Parametro_Carga_API, \"camada\": camada, \"dtInicio\": dtInicio_format, \"dtFim\": dtFim_format, \"pipeline\": pipeline, \"atividade\": atividade, \"notebook\": notebook, \"origem\": origem, \"destino\": destino, \"sistema\": param.nm_Sistema, \"emissor\": emissor, \"duracao\": duracao, \"query\": query, \"dsParametro\": dsParametro, \"execUrl\": execUrl}\n",
    "\n",
    "        fn_LogSucceeded(parametros, dt_ingestao.strftime(format_log))\n",
    "\n",
    "        return f\"Carga da tabela {param.ds_Nome_Arquivo_Landing} finalizada com sucesso.\"\n",
    "\n",
    "    except Exception as error:\n",
    "        ## LOG ERRO\n",
    "        dtFim = datetime.today() - timedelta(hours=3)\n",
    "        dtFim_format = dtFim.strftime(format_log)\n",
    "        duracao = int((dtFim-dtInicio).total_seconds()) #captura a duração subtraindo o dtFim pelo dtInicio\n",
    "        dsParametro = str(param.asDict()) #captura todos os parâmetros\n",
    "        notebook = dbutils.notebook.entry_point.getDbutils().notebook().getContext().notebookPath().get()\n",
    "        try:\n",
    "            pipeline = param.nm_Pipeline\n",
    "        except:\n",
    "            pipeline = os.path.basename(notebook)\n",
    "\n",
    "        if end_point_page is not None:\n",
    "            query = end_point_page\n",
    "        else:\n",
    "            query = ' '\n",
    "\n",
    "        if hasattr(error, 'code'): # captura o código do erro, caso possua o atributo 'code'\n",
    "            error_code = error.code\n",
    "        else:\n",
    "            error_code = 'NULL'\n",
    "            \n",
    "        parametros = {\"tipo_log\": tipo_log,\"id_parametro\": param.id_Parametro_Carga_API, \"camada\": camada, \"dtInicio\": dtInicio_format, \"dtFim\": dtFim_format, \"pipeline\": pipeline, \"atividade\": atividade, \"notebook\": notebook, \"origem\": origem, \"destino\": destino, \"sistema\": param.nm_Sistema, \"emissor\": emissor, \"duracao\": duracao, \"query\": query, \"dsParametro\": dsParametro, \"cd_erro\": error_code, \"erro\": str(error), \"execUrl\": execUrl}\n",
    "\n",
    "        fn_LogFailed(parametros, dt_ingestao.strftime(format_log))"
   ]
  },
  {
   "cell_type": "code",
   "execution_count": null,
   "metadata": {
    "application/vnd.databricks.v1+cell": {
     "cellMetadata": {},
     "inputWidgets": {},
     "nuid": "926656e8-c2b4-4d93-98a4-bb58a6f9b031",
     "showTitle": false,
     "title": ""
    }
   },
   "outputs": [],
   "source": [
    "# Cria uma lista para armazenar todas as tarefas\n",
    "tasks = []\n",
    "\n",
    "# Cria uma instância do ThreadPoolExecutor com threads definidas (max_workers)\n",
    "with concurrent.futures.ThreadPoolExecutor(max_workers=threads) as executor:\n",
    "    # Percorre todas as pastas do diretório de origem\n",
    "    for row in data_param:\n",
    "        # Executa a função fn_StreamFromFolder_csv em uma thread do ThreadPoolExecutor\n",
    "        task = executor.submit(get_tables, *(row, baseUrl, dt_inicio_unix, dt_fim, location_landing, headers))\n",
    "                               \n",
    "        # Adiciona a tarefa à lista de tarefas\n",
    "        tasks.append(task)\n",
    "\n",
    "# Aguarda a conclusão de todas as tarefas\n",
    "_ = concurrent.futures.wait(tasks, return_when='ALL_COMPLETED')"
   ]
  },
  {
   "cell_type": "code",
   "execution_count": null,
   "metadata": {
    "application/vnd.databricks.v1+cell": {
     "cellMetadata": {},
     "inputWidgets": {},
     "nuid": "b2db3251-7ac1-49d3-8c1f-018b566719cd",
     "showTitle": false,
     "title": ""
    }
   },
   "outputs": [],
   "source": [
    "for task in tasks:\n",
    "    try:\n",
    "        print(task.result(),'\\n')\n",
    "    except Exception as error:\n",
    "        print(error)\n",
    "        pass"
   ]
  }
 ],
 "metadata": {
  "application/vnd.databricks.v1+notebook": {
   "dashboards": [],
   "language": "python",
   "notebookMetadata": {},
   "notebookName": "Process_Ingestao_VR_Gente_LinkedIn",
   "widgets": {}
  },
  "language_info": {
   "name": "python"
  }
 },
 "nbformat": 4,
 "nbformat_minor": 0
}
